{
 "cells": [
  {
   "cell_type": "code",
   "execution_count": 136,
   "metadata": {},
   "outputs": [],
   "source": [
    "import os\n",
    "import csv\n",
    "\n",
    "csvpath = os.path.join('budget_data.csv')\n",
    "m=0\n",
    "total=0\n",
    "net_total=0\n",
    "x=0\n",
    "new_total=0\n",
    "avg_change=0\n",
    "l = []\n",
    "maxt = 0\n",
    "mint = 0\n",
    "maxm = []\n",
    "minm = []"
   ]
  },
  {
   "cell_type": "code",
   "execution_count": 137,
   "metadata": {},
   "outputs": [],
   "source": [
    "### The total number of months included in the dataset\n",
    "with open(csvpath, newline='') as csvfile:\n",
    "\n",
    "    csvreader = csv.reader(csvfile, delimiter=',')\n",
    "    csv_header = next(csvreader)\n",
    "\n",
    "    for row in csvreader:\n",
    "        m = m + 1"
   ]
  },
  {
   "cell_type": "code",
   "execution_count": 138,
   "metadata": {},
   "outputs": [],
   "source": [
    "### net total for profit column\n",
    "with open(csvpath, newline='') as csvfile:\n",
    "\n",
    "    csvreader = csv.reader(csvfile, delimiter=',')\n",
    "    csv_header = next(csvreader)\n",
    "\n",
    "    for row in csvreader:\n",
    "        total += int(row[1])\n",
    "        x = x + 1"
   ]
  },
  {
   "cell_type": "code",
   "execution_count": 139,
   "metadata": {},
   "outputs": [],
   "source": [
    "### The average of the changes in \"Profit/Losses\" over the entire period\n",
    "with open(csvpath, newline='') as csvfile:\n",
    "\n",
    "    csvreader = csv.reader(csvfile, delimiter=',')\n",
    "    csv_header = next(csvreader)\n",
    "    \n",
    "    avg_change = (total/m)\n",
    "    \n",
    "\n",
    "#     for row in csvreader:\n",
    "#         val = int(row[1])\n",
    "#         new_total == val + int(row[1])\n",
    "#         print(f\" profit __ {val}\")\n",
    "#         print(f\"new total {new_total}\")"
   ]
  },
  {
   "cell_type": "code",
   "execution_count": 140,
   "metadata": {},
   "outputs": [
    {
     "name": "stdout",
     "output_type": "stream",
     "text": [
      "datatypes\n",
      "m: <class 'int'>\n",
      "total: <class 'int'>\n",
      "avg_change: <class 'float'>\n",
      "row: <class 'str'>\n"
     ]
    }
   ],
   "source": [
    "print(\"datatypes\")\n",
    "print(f\"m: {type(m)}\")\n",
    "print(f\"total: {type(total)}\")\n",
    "print(f\"avg_change: {type(avg_change)}\")\n",
    "print(f\"row: {type(row[1])}\")"
   ]
  },
  {
   "cell_type": "code",
   "execution_count": 141,
   "metadata": {},
   "outputs": [
    {
     "name": "stdout",
     "output_type": "stream",
     "text": [
      "1170593 []\n",
      "-1196225 []\n"
     ]
    }
   ],
   "source": [
    "### The greatest increase in profits (date and amount) over the entire period\n",
    "with open(csvpath, newline='') as csvfile:\n",
    "\n",
    "    csvreader = csv.reader(csvfile, delimiter=',')\n",
    "    csv_header = next(csvreader)\n",
    "\n",
    "    for row in csvreader:\n",
    "        \n",
    "        maxt = max(maxt,int(row[1]))\n",
    "        #maxm = max(maxt,int(row[0]))\n",
    "        mint = min(mint,int(row[1]))\n",
    "        #minm = max(mint,int(row[0]))\n",
    "        \n",
    "    print(maxt, maxm)\n",
    "    print(mint, minm)\n",
    "        \n",
    "# Below, we can find the max from a list but that removes the association with the month column.\n",
    "    #for row in csvreader:\n",
    "        #g = int(row[1])\n",
    "        #l.append(g)\n",
    "        #g = int(row[1])\n",
    "    #mx = max(l)"
   ]
  },
  {
   "cell_type": "code",
   "execution_count": 142,
   "metadata": {},
   "outputs": [
    {
     "name": "stdout",
     "output_type": "stream",
     "text": [
      "Month of largest profit: ['Feb-12']\n",
      "month of largest losses: ['Sep-13']\n"
     ]
    }
   ],
   "source": [
    "with open(csvpath, newline='') as csvfile:\n",
    "\n",
    "    csvreader = csv.reader(csvfile, delimiter=',')\n",
    "    csv_header = next(csvreader)\n",
    "    \n",
    "    for row in csvreader:\n",
    "        \n",
    "        # NOTE: To surface the month names while accomodating for whether multiple months\n",
    "        # have the same max or min --  I . made these variables a list datatype (hence the weird print format)\n",
    "\n",
    "            if int(row[1]) == maxt:\n",
    "                maxm.append(row[0])\n",
    "                print(f\"Month of largest profit: {maxm}\")\n",
    "            \n",
    "            elif int(row[1]) == mint:\n",
    "                minm.append(row[0])\n",
    "                print(f\"month of largest losses: {minm}\")\n",
    "            "
   ]
  },
  {
   "cell_type": "code",
   "execution_count": 152,
   "metadata": {},
   "outputs": [
    {
     "name": "stdout",
     "output_type": "stream",
     "text": [
      "Running financial analysis...\n"
     ]
    },
    {
     "ename": "NameError",
     "evalue": "name 'time' is not defined",
     "output_type": "error",
     "traceback": [
      "\u001b[0;31m---------------------------------------------------------------------------\u001b[0m",
      "\u001b[0;31mNameError\u001b[0m                                 Traceback (most recent call last)",
      "\u001b[0;32m<ipython-input-152-b912e5b894a2>\u001b[0m in \u001b[0;36m<module>\u001b[0;34m\u001b[0m\n\u001b[1;32m      1\u001b[0m \u001b[0mprint\u001b[0m\u001b[0;34m(\u001b[0m\u001b[0;34mf\"Running financial analysis...\"\u001b[0m\u001b[0;34m)\u001b[0m\u001b[0;34m\u001b[0m\u001b[0;34m\u001b[0m\u001b[0m\n\u001b[0;32m----> 2\u001b[0;31m \u001b[0mtime\u001b[0m\u001b[0;34m.\u001b[0m\u001b[0msleep\u001b[0m\u001b[0;34m(\u001b[0m\u001b[0;36m6\u001b[0m\u001b[0;34m)\u001b[0m\u001b[0;34m\u001b[0m\u001b[0;34m\u001b[0m\u001b[0m\n\u001b[0m\u001b[1;32m      3\u001b[0m \u001b[0mprint\u001b[0m\u001b[0;34m(\u001b[0m\u001b[0;34mf\"analysis complete\"\u001b[0m\u001b[0;34m)\u001b[0m\u001b[0;34m\u001b[0m\u001b[0;34m\u001b[0m\u001b[0m\n\u001b[1;32m      4\u001b[0m \u001b[0mprint\u001b[0m\u001b[0;34m(\u001b[0m\u001b[0;34mf\"------------------------------------------\"\u001b[0m\u001b[0;34m)\u001b[0m\u001b[0;34m\u001b[0m\u001b[0;34m\u001b[0m\u001b[0m\n\u001b[1;32m      5\u001b[0m \u001b[0mprint\u001b[0m\u001b[0;34m(\u001b[0m\u001b[0;34mf\"Number of months recorded: {m}\"\u001b[0m\u001b[0;34m)\u001b[0m\u001b[0;34m\u001b[0m\u001b[0;34m\u001b[0m\u001b[0m\n",
      "\u001b[0;31mNameError\u001b[0m: name 'time' is not defined"
     ]
    }
   ],
   "source": [
    "print(f\"Running financial analysis...\")\n",
    "time.sleep(6)\n",
    "print(f\"analysis complete\")\n",
    "print(f\"------------------------------------------\")\n",
    "print(f\"Number of months recorded: {m}\")\n",
    "print(f\"Net total profit: {'${:,.2f}'.format(total)}\")\n",
    "print(f\"Average monthly net profit/loss: {'${:,.2f}'.format(avg_change)}\")\n",
    "print(f\"Largest profit in a month: {'${:,.2f}'.format(maxt)} {maxm}\")\n",
    "print(f\"Largest loss in a month: {'${:,.2f}'.format(mint)} {minm}\")\n",
    "print(f\"------------------------------------------\")\n",
    "\n"
   ]
  },
  {
   "cell_type": "code",
   "execution_count": null,
   "metadata": {},
   "outputs": [],
   "source": []
  },
  {
   "cell_type": "code",
   "execution_count": null,
   "metadata": {},
   "outputs": [],
   "source": []
  },
  {
   "cell_type": "code",
   "execution_count": null,
   "metadata": {},
   "outputs": [],
   "source": []
  }
 ],
 "metadata": {
  "kernelspec": {
   "display_name": "Python 3",
   "language": "python",
   "name": "python3"
  },
  "language_info": {
   "codemirror_mode": {
    "name": "ipython",
    "version": 3
   },
   "file_extension": ".py",
   "mimetype": "text/x-python",
   "name": "python",
   "nbconvert_exporter": "python",
   "pygments_lexer": "ipython3",
   "version": "3.7.3"
  }
 },
 "nbformat": 4,
 "nbformat_minor": 4
}
